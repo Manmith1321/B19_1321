{
  "nbformat": 4,
  "nbformat_minor": 0,
  "metadata": {
    "colab": {
      "provenance": [],
      "authorship_tag": "ABX9TyN+row3t6d38OA8g8muQKAX",
      "include_colab_link": true
    },
    "kernelspec": {
      "name": "python3",
      "display_name": "Python 3"
    },
    "language_info": {
      "name": "python"
    }
  },
  "cells": [
    {
      "cell_type": "markdown",
      "metadata": {
        "id": "view-in-github",
        "colab_type": "text"
      },
      "source": [
        "<a href=\"https://colab.research.google.com/github/Manmith1321/B19_1321/blob/main/LAB_04(2303A51321).ipynb\" target=\"_parent\"><img src=\"https://colab.research.google.com/assets/colab-badge.svg\" alt=\"Open In Colab\"/></a>"
      ]
    },
    {
      "cell_type": "code",
      "execution_count": 1,
      "metadata": {
        "colab": {
          "base_uri": "https://localhost:8080/"
        },
        "id": "XO9jg20faFmp",
        "outputId": "27f82896-27bc-44ea-e07a-87ec49943696"
      },
      "outputs": [
        {
          "output_type": "stream",
          "name": "stdout",
          "text": [
            "Filtered Feedback:\n",
            "\n",
            "User_ID                  Feedback\n",
            "   U101 Great course very useful!\n",
            "   U104      Learnt a lot thanks!\n",
            "   U109    Hands-on and practical\n",
            "   U111   Very engaging and clear\n"
          ]
        }
      ],
      "source": [
        "import pandas as pd\n",
        "df = pd.read_csv(\"/content/course_feedback.csv\")\n",
        "\n",
        "df = df.dropna(subset=[\"Rating\"])\n",
        "\n",
        "filtered_df = df[\n",
        "    (df[\"Course_Name\"] == \"Python for Data Science\") &\n",
        "    (df[\"Rating\"] >= 4)\n",
        "]\n",
        "\n",
        "\n",
        "result = filtered_df[[\"User_ID\", \"Feedback\"]]\n",
        "\n",
        "print(\"Filtered Feedback:\\n\")\n",
        "print(result.to_string(index=False))"
      ]
    },
    {
      "cell_type": "code",
      "source": [
        "import pandas as pd\n",
        "\n",
        "df = pd.read_csv(\"/content/air_quality.csv\")\n",
        "\n",
        "df = df.fillna(method=\"ffill\")\n",
        "\n",
        "polluted_days = df[(df[\"PM2.5\"] > 150) & (df[\"NO2\"] > 80)]\n",
        "\n",
        "print(\"⚠ Polluted Day Records:\\n\")\n",
        "print(polluted_days.to_string(index=False))\n",
        "\n",
        "polluted_days.to_csv(\"polluted_days.csv\", index=False)\n",
        "print(\"\\nFiltered records saved to polluted_days.csv\")"
      ],
      "metadata": {
        "colab": {
          "base_uri": "https://localhost:8080/"
        },
        "id": "kXTwI9evagFt",
        "outputId": "35fad146-0c41-4526-9df9-08cf33b8605e"
      },
      "execution_count": 2,
      "outputs": [
        {
          "output_type": "stream",
          "name": "stdout",
          "text": [
            "⚠ Polluted Day Records:\n",
            "\n",
            " Location  PM2.5  PM10  NO2  SO2       Date\n",
            "    Delhi  160.0   300   85   25 2025-08-01\n",
            "  Chennai  155.0   250   82   18 2025-08-02\n",
            "  Kolkata  155.0   280   90   22 2025-08-02\n",
            "Hyderabad  170.0   310   95   28 2025-08-03\n",
            "\n",
            "Filtered records saved to polluted_days.csv\n"
          ]
        },
        {
          "output_type": "stream",
          "name": "stderr",
          "text": [
            "/tmp/ipython-input-3737952789.py:5: FutureWarning: DataFrame.fillna with 'method' is deprecated and will raise in a future version. Use obj.ffill() or obj.bfill() instead.\n",
            "  df = df.fillna(method=\"ffill\")\n"
          ]
        }
      ]
    },
    {
      "cell_type": "code",
      "source": [],
      "metadata": {
        "id": "gZ_tjzohauEl"
      },
      "execution_count": null,
      "outputs": []
    }
  ]
}