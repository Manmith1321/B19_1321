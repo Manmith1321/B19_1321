{
  "nbformat": 4,
  "nbformat_minor": 0,
  "metadata": {
    "colab": {
      "provenance": [],
      "authorship_tag": "ABX9TyNtyMK/Na9NgNTB40AKVJy+",
      "include_colab_link": true
    },
    "kernelspec": {
      "name": "python3",
      "display_name": "Python 3"
    },
    "language_info": {
      "name": "python"
    }
  },
  "cells": [
    {
      "cell_type": "markdown",
      "metadata": {
        "id": "view-in-github",
        "colab_type": "text"
      },
      "source": [
        "<a href=\"https://colab.research.google.com/github/Manmith1321/B19_1321/blob/main/LAB_04.ipynb\" target=\"_parent\"><img src=\"https://colab.research.google.com/assets/colab-badge.svg\" alt=\"Open In Colab\"/></a>"
      ]
    },
    {
      "cell_type": "code",
      "source": [
        "import pandas as pd\n",
        "#creating a series from list\n",
        "data = [1,2,3,4,5]\n",
        "series = pd.Series(data)\n",
        "print(series)"
      ],
      "metadata": {
        "colab": {
          "base_uri": "https://localhost:8080/"
        },
        "id": "2jxsQHKTSPXx",
        "outputId": "40a3f457-f644-4fed-8c0b-c0a2fabfb1b8"
      },
      "execution_count": 60,
      "outputs": [
        {
          "output_type": "stream",
          "name": "stdout",
          "text": [
            "0    1\n",
            "1    2\n",
            "2    3\n",
            "3    4\n",
            "4    5\n",
            "dtype: int64\n"
          ]
        }
      ]
    },
    {
      "cell_type": "code",
      "source": [
        "#series with custom index\n",
        "import pandas as pd\n",
        "data = [1,2,3,4,5]\n",
        "index = ['a','b','c','d','e']\n",
        "series = pd.Series(data,index=index)\n",
        "print(series)"
      ],
      "metadata": {
        "colab": {
          "base_uri": "https://localhost:8080/"
        },
        "id": "Bt02Rg_WTmEm",
        "outputId": "0352402e-ee60-4370-ac97-ae8832a2e49b"
      },
      "execution_count": 61,
      "outputs": [
        {
          "output_type": "stream",
          "name": "stdout",
          "text": [
            "a    1\n",
            "b    2\n",
            "c    3\n",
            "d    4\n",
            "e    5\n",
            "dtype: int64\n"
          ]
        }
      ]
    },
    {
      "cell_type": "code",
      "source": [
        "import pandas as pd\n",
        "a={\"name\":['manmith','dinesh','jess','kruti'],\"age\":[20,21,22,23],\"city\":[\"hyd\",\"wgl\",\"delhi\",\"mumbai\"]}\n",
        "df=pd.DataFrame(a)\n",
        "print(df)"
      ],
      "metadata": {
        "colab": {
          "base_uri": "https://localhost:8080/"
        },
        "id": "_Yau5O-WTnwr",
        "outputId": "5e954e3b-0b81-41d2-d7ee-f468b776216a"
      },
      "execution_count": 62,
      "outputs": [
        {
          "output_type": "stream",
          "name": "stdout",
          "text": [
            "      name  age    city\n",
            "0  manmith   20     hyd\n",
            "1   dinesh   21     wgl\n",
            "2     jess   22   delhi\n",
            "3    kruti   23  mumbai\n"
          ]
        }
      ]
    },
    {
      "cell_type": "code",
      "source": [
        "print(df['name'])"
      ],
      "metadata": {
        "colab": {
          "base_uri": "https://localhost:8080/"
        },
        "id": "VaGP3EjFT3L9",
        "outputId": "68828bc2-2fd8-451c-e564-806df5fea4a7"
      },
      "execution_count": 63,
      "outputs": [
        {
          "output_type": "stream",
          "name": "stdout",
          "text": [
            "0    manmith\n",
            "1     dinesh\n",
            "2       jess\n",
            "3      kruti\n",
            "Name: name, dtype: object\n"
          ]
        }
      ]
    },
    {
      "cell_type": "code",
      "source": [
        "print(df[[\"name\",\"age\"]])"
      ],
      "metadata": {
        "colab": {
          "base_uri": "https://localhost:8080/"
        },
        "id": "_CNsrGk_T6at",
        "outputId": "49b2cb77-3688-4aeb-fdbe-357c2d72bfc0"
      },
      "execution_count": 64,
      "outputs": [
        {
          "output_type": "stream",
          "name": "stdout",
          "text": [
            "      name  age\n",
            "0  manmith   20\n",
            "1   dinesh   21\n",
            "2     jess   22\n",
            "3    kruti   23\n"
          ]
        }
      ]
    },
    {
      "cell_type": "code",
      "source": [
        "print(df.loc[0])"
      ],
      "metadata": {
        "colab": {
          "base_uri": "https://localhost:8080/"
        },
        "id": "iqURmE3ST8Pn",
        "outputId": "968a3cc1-b429-4b52-a05b-0c8c8e87885e"
      },
      "execution_count": 65,
      "outputs": [
        {
          "output_type": "stream",
          "name": "stdout",
          "text": [
            "name    manmith\n",
            "age          20\n",
            "city        hyd\n",
            "Name: 0, dtype: object\n"
          ]
        }
      ]
    },
    {
      "cell_type": "code",
      "source": [
        "print(df.loc[[0,1]])"
      ],
      "metadata": {
        "colab": {
          "base_uri": "https://localhost:8080/"
        },
        "id": "M7z6GsfAT-ds",
        "outputId": "6b844579-9e7d-4e80-b4b9-0478f7586d4f"
      },
      "execution_count": 66,
      "outputs": [
        {
          "output_type": "stream",
          "name": "stdout",
          "text": [
            "      name  age city\n",
            "0  manmith   20  hyd\n",
            "1   dinesh   21  wgl\n"
          ]
        }
      ]
    },
    {
      "cell_type": "code",
      "source": [
        "print(df.iloc[0])"
      ],
      "metadata": {
        "colab": {
          "base_uri": "https://localhost:8080/"
        },
        "id": "yAoBZCUPUAjR",
        "outputId": "de24b3fd-bd21-4df6-bfdd-0dc3e64de61a"
      },
      "execution_count": 67,
      "outputs": [
        {
          "output_type": "stream",
          "name": "stdout",
          "text": [
            "name    manmith\n",
            "age          20\n",
            "city        hyd\n",
            "Name: 0, dtype: object\n"
          ]
        }
      ]
    },
    {
      "cell_type": "code",
      "source": [
        "df['salary']=[4000,3000,2000,1000]\n",
        "\n",
        "print(df)\n"
      ],
      "metadata": {
        "colab": {
          "base_uri": "https://localhost:8080/"
        },
        "id": "QyPrP5XVUDHS",
        "outputId": "072d8094-70aa-4a1a-9146-17ba7d6f8bf7"
      },
      "execution_count": 68,
      "outputs": [
        {
          "output_type": "stream",
          "name": "stdout",
          "text": [
            "      name  age    city  salary\n",
            "0  manmith   20     hyd    4000\n",
            "1   dinesh   21     wgl    3000\n",
            "2     jess   22   delhi    2000\n",
            "3    kruti   23  mumbai    1000\n"
          ]
        }
      ]
    },
    {
      "cell_type": "code",
      "source": [
        "df = df.drop('city', axis=1)\n",
        "print(df)"
      ],
      "metadata": {
        "colab": {
          "base_uri": "https://localhost:8080/"
        },
        "id": "DXi7vFjYUGV1",
        "outputId": "1d962054-c72d-4688-c7b0-8ef27389005d"
      },
      "execution_count": 69,
      "outputs": [
        {
          "output_type": "stream",
          "name": "stdout",
          "text": [
            "      name  age  salary\n",
            "0  manmith   20    4000\n",
            "1   dinesh   21    3000\n",
            "2     jess   22    2000\n",
            "3    kruti   23    1000\n"
          ]
        }
      ]
    },
    {
      "cell_type": "code",
      "source": [
        "print(df[df['age']>20])"
      ],
      "metadata": {
        "colab": {
          "base_uri": "https://localhost:8080/"
        },
        "id": "BA0iedErULu9",
        "outputId": "ddd967d0-a4bf-4a57-a13f-79935b47123b"
      },
      "execution_count": 70,
      "outputs": [
        {
          "output_type": "stream",
          "name": "stdout",
          "text": [
            "     name  age  salary\n",
            "1  dinesh   21    3000\n",
            "2    jess   22    2000\n",
            "3   kruti   23    1000\n"
          ]
        }
      ]
    },
    {
      "cell_type": "code",
      "source": [
        "print(df[\"age\"].mean())"
      ],
      "metadata": {
        "colab": {
          "base_uri": "https://localhost:8080/"
        },
        "id": "U2VmeGArUPoP",
        "outputId": "3f5303a9-52b7-4fc0-f672-cdba8c5ba025"
      },
      "execution_count": 71,
      "outputs": [
        {
          "output_type": "stream",
          "name": "stdout",
          "text": [
            "21.5\n"
          ]
        }
      ]
    },
    {
      "cell_type": "code",
      "source": [
        "print(df[\"age\"].max())"
      ],
      "metadata": {
        "colab": {
          "base_uri": "https://localhost:8080/"
        },
        "id": "SBY4avc-URlY",
        "outputId": "b5a5adc9-a598-4fbf-ba62-9c266524fe91"
      },
      "execution_count": 72,
      "outputs": [
        {
          "output_type": "stream",
          "name": "stdout",
          "text": [
            "23\n"
          ]
        }
      ]
    },
    {
      "cell_type": "code",
      "source": [
        "print(df[\"age\"].min())"
      ],
      "metadata": {
        "colab": {
          "base_uri": "https://localhost:8080/"
        },
        "id": "1bjL9-B8UV6P",
        "outputId": "12310203-7c97-44ac-b65d-044ee3efd526"
      },
      "execution_count": 73,
      "outputs": [
        {
          "output_type": "stream",
          "name": "stdout",
          "text": [
            "20\n"
          ]
        }
      ]
    },
    {
      "cell_type": "code",
      "source": [
        "student_data={\"student-ID\":[1,2,3,4,5],\"Name\":[\"manmith\",\"dinesh\",\"mahathi\",\"jess\",\"kruti\"],\"marks\":[96,98,97,95,99],\"Dep\":[\"CSE\",\"ECE\",\"MECH\",\"CSE\",\"CSE-M\"]}\n",
        "df=pd.DataFrame(student_data)\n",
        "print(df)"
      ],
      "metadata": {
        "colab": {
          "base_uri": "https://localhost:8080/"
        },
        "id": "AsTrYLk0UYhR",
        "outputId": "f4fa06dd-b0cc-4c2f-90f0-9e4598a041cf"
      },
      "execution_count": 74,
      "outputs": [
        {
          "output_type": "stream",
          "name": "stdout",
          "text": [
            "   student-ID     Name  marks    Dep\n",
            "0           1  manmith     96    CSE\n",
            "1           2   dinesh     98    ECE\n",
            "2           3  mahathi     97   MECH\n",
            "3           4     jess     95    CSE\n",
            "4           5    kruti     99  CSE-M\n"
          ]
        }
      ]
    },
    {
      "cell_type": "code",
      "source": [
        "# find students with marks>95\n",
        "print(df[df['marks']>95])"
      ],
      "metadata": {
        "colab": {
          "base_uri": "https://localhost:8080/"
        },
        "id": "3YEA3DUQUn9g",
        "outputId": "db47d1a5-b392-41a3-b718-13ff671b7b98"
      },
      "execution_count": 75,
      "outputs": [
        {
          "output_type": "stream",
          "name": "stdout",
          "text": [
            "   student-ID     Name  marks    Dep\n",
            "0           1  manmith     96    CSE\n",
            "1           2   dinesh     98    ECE\n",
            "2           3  mahathi     97   MECH\n",
            "4           5    kruti     99  CSE-M\n"
          ]
        }
      ]
    },
    {
      "cell_type": "code",
      "source": [
        "#average marks\n",
        "print(df['marks'].mean())"
      ],
      "metadata": {
        "colab": {
          "base_uri": "https://localhost:8080/"
        },
        "id": "htTBqIu9U5ws",
        "outputId": "b322d68c-427a-414e-b129-73e549e66800"
      },
      "execution_count": 76,
      "outputs": [
        {
          "output_type": "stream",
          "name": "stdout",
          "text": [
            "97.0\n"
          ]
        }
      ]
    },
    {
      "cell_type": "code",
      "source": [
        "#add new column\n",
        "df[\"result\"]=['pass'if x>=50 else 'fail' for x in df[\"marks\"]]\n",
        "print(df)"
      ],
      "metadata": {
        "colab": {
          "base_uri": "https://localhost:8080/"
        },
        "id": "Op8WfOT7U8KP",
        "outputId": "ef6ea6ed-0607-40c3-cdfd-a3091a3c36f6"
      },
      "execution_count": 77,
      "outputs": [
        {
          "output_type": "stream",
          "name": "stdout",
          "text": [
            "   student-ID     Name  marks    Dep result\n",
            "0           1  manmith     96    CSE   pass\n",
            "1           2   dinesh     98    ECE   pass\n",
            "2           3  mahathi     97   MECH   pass\n",
            "3           4     jess     95    CSE   pass\n",
            "4           5    kruti     99  CSE-M   pass\n"
          ]
        }
      ]
    },
    {
      "cell_type": "code",
      "source": [
        "student_data={\"srollno\":[1,2,3,4,5],\"sName\":[\"manmith\",\"dinesh\",\"mahathi\",\"jess\",\"kruti\"],'m1':[96,88,57,55,99],'m2':[90,41,89,76,99],'m3':[99,89,69,79,59]}\n",
        "df=pd.DataFrame(student_data)\n",
        "print(df)"
      ],
      "metadata": {
        "colab": {
          "base_uri": "https://localhost:8080/"
        },
        "id": "opG8I6NEU-Ub",
        "outputId": "92847ac8-cbd6-4e98-e942-8a1c36df84e6"
      },
      "execution_count": 78,
      "outputs": [
        {
          "output_type": "stream",
          "name": "stdout",
          "text": [
            "   srollno    sName  m1  m2  m3\n",
            "0        1  manmith  96  90  99\n",
            "1        2   dinesh  88  41  89\n",
            "2        3  mahathi  57  89  69\n",
            "3        4     jess  55  76  79\n",
            "4        5    kruti  99  99  59\n"
          ]
        }
      ]
    },
    {
      "cell_type": "code",
      "source": [
        "df[\"total\"]=df['m1']+df['m2']+df['m3']\n",
        "print(df)"
      ],
      "metadata": {
        "colab": {
          "base_uri": "https://localhost:8080/"
        },
        "id": "nlwR4fuoVMQo",
        "outputId": "809f6bb5-ea04-4d4a-f589-db358bc25457"
      },
      "execution_count": 79,
      "outputs": [
        {
          "output_type": "stream",
          "name": "stdout",
          "text": [
            "   srollno    sName  m1  m2  m3  total\n",
            "0        1  manmith  96  90  99    285\n",
            "1        2   dinesh  88  41  89    218\n",
            "2        3  mahathi  57  89  69    215\n",
            "3        4     jess  55  76  79    210\n",
            "4        5    kruti  99  99  59    257\n"
          ]
        }
      ]
    },
    {
      "cell_type": "code",
      "source": [
        "df[\"result\"]=['pass'if x>=50 else 'fail' for x in df[\"total\"]]\n",
        "print(df)"
      ],
      "metadata": {
        "colab": {
          "base_uri": "https://localhost:8080/"
        },
        "id": "U8uEq5c3VO93",
        "outputId": "0708231d-d15b-46c0-c57e-e2ac5bc52c66"
      },
      "execution_count": 80,
      "outputs": [
        {
          "output_type": "stream",
          "name": "stdout",
          "text": [
            "   srollno    sName  m1  m2  m3  total result\n",
            "0        1  manmith  96  90  99    285   pass\n",
            "1        2   dinesh  88  41  89    218   pass\n",
            "2        3  mahathi  57  89  69    215   pass\n",
            "3        4     jess  55  76  79    210   pass\n",
            "4        5    kruti  99  99  59    257   pass\n"
          ]
        }
      ]
    },
    {
      "cell_type": "code",
      "source": [
        "df[\"average\"]=df['total']/3\n",
        "print(df)"
      ],
      "metadata": {
        "colab": {
          "base_uri": "https://localhost:8080/"
        },
        "id": "E7rBBslIVRun",
        "outputId": "fdbd7a05-cdc5-4837-b7d4-057104672389"
      },
      "execution_count": 81,
      "outputs": [
        {
          "output_type": "stream",
          "name": "stdout",
          "text": [
            "   srollno    sName  m1  m2  m3  total result    average\n",
            "0        1  manmith  96  90  99    285   pass  95.000000\n",
            "1        2   dinesh  88  41  89    218   pass  72.666667\n",
            "2        3  mahathi  57  89  69    215   pass  71.666667\n",
            "3        4     jess  55  76  79    210   pass  70.000000\n",
            "4        5    kruti  99  99  59    257   pass  85.666667\n"
          ]
        }
      ]
    }
  ]
}