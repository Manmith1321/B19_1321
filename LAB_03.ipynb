{
  "nbformat": 4,
  "nbformat_minor": 0,
  "metadata": {
    "colab": {
      "provenance": [],
      "authorship_tag": "ABX9TyO68HNz6Bs4aabzdLnjOHVN",
      "include_colab_link": true
    },
    "kernelspec": {
      "name": "python3",
      "display_name": "Python 3"
    },
    "language_info": {
      "name": "python"
    }
  },
  "cells": [
    {
      "cell_type": "markdown",
      "metadata": {
        "id": "view-in-github",
        "colab_type": "text"
      },
      "source": [
        "<a href=\"https://colab.research.google.com/github/Manmith1321/B19_1321/blob/main/LAB_03.ipynb\" target=\"_parent\"><img src=\"https://colab.research.google.com/assets/colab-badge.svg\" alt=\"Open In Colab\"/></a>"
      ]
    },
    {
      "cell_type": "code",
      "execution_count": 7,
      "metadata": {
        "colab": {
          "base_uri": "https://localhost:8080/"
        },
        "id": "H6mc873V5ZGk",
        "outputId": "7cfcc63b-c505-4e4a-ee06-2daa39c9c6dd"
      },
      "outputs": [
        {
          "output_type": "stream",
          "name": "stdout",
          "text": [
            "data written successfully\n"
          ]
        }
      ],
      "source": [
        "# 3. Writing to a file\n",
        "# Open file in write mode\n",
        "fp = open(\"example.txt\",\"w\")\n",
        "\n",
        "#Write text to file\n",
        "fp.write(\"Hello,B.tech students!\\n\")\n",
        "fp.write(\"this os file handling in python.\\n\")\n",
        "fp.write(\"sr university.\\n\")\n",
        "fp.write(\"manmith vardhan.\\n\")\n",
        "\n",
        "#Close the file\n",
        "fp.close()\n",
        "print(\"data written successfully\")"
      ]
    },
    {
      "cell_type": "code",
      "source": [
        "# 4. Readimg from a line\n",
        "fp = open(\"example.txt\",\"r\")\n",
        "content=fp.read()\n",
        "print(\"file content:\\n\",content)\n",
        "fp.close()\n",
        "fp.close()"
      ],
      "metadata": {
        "colab": {
          "base_uri": "https://localhost:8080/"
        },
        "id": "ZlEPb8_z67Pq",
        "outputId": "dc59ca7c-1426-451c-a6ad-c08b97ff6508"
      },
      "execution_count": 9,
      "outputs": [
        {
          "output_type": "stream",
          "name": "stdout",
          "text": [
            "file content:\n",
            " Hello,B.tech students!\n",
            "this os file handling in python.\n",
            "sr university.\n",
            "manmith vardhan.\n",
            "\n"
          ]
        }
      ]
    },
    {
      "cell_type": "code",
      "source": [
        "# 5. reading line by line\n",
        "fp=open(\"example.txt\",\"r\")\n",
        "line1=fp.readline()\n",
        "print(\"First line\",line1)\n",
        "line2=fp.readline()\n",
        "print(\"Second line\",line2)\n",
        "line3=fp.readline()\n",
        "print(\"Third line\",line3)\n",
        "line4=fp.readline()\n",
        "print(\"Fourth line\",line4)\n",
        "fp.close()"
      ],
      "metadata": {
        "colab": {
          "base_uri": "https://localhost:8080/"
        },
        "id": "IEEM3VCu-ENg",
        "outputId": "8f2d6122-7642-47cc-913d-b0492536cdbe"
      },
      "execution_count": 13,
      "outputs": [
        {
          "output_type": "stream",
          "name": "stdout",
          "text": [
            "First line Hello,B.tech students!\n",
            "\n",
            "Second line this os file handling in python.\n",
            "\n",
            "Third line sr university.\n",
            "\n",
            "Fourth line manmith vardhan.\n",
            "\n"
          ]
        }
      ]
    },
    {
      "cell_type": "code",
      "source": [
        "# 6. Reading all lines into a list\n",
        "file = open(\"example.txt\",\"r\")\n",
        "lines = file.readlines()\n",
        "\n",
        "print(\"all lines at list:\\n\", lines)\n",
        "file.close()"
      ],
      "metadata": {
        "colab": {
          "base_uri": "https://localhost:8080/"
        },
        "id": "9HvXL4c7-esc",
        "outputId": "42330c2a-21e7-49c0-c399-cdb88fa338a6"
      },
      "execution_count": 16,
      "outputs": [
        {
          "output_type": "stream",
          "name": "stdout",
          "text": [
            "all lines at list:\n",
            " ['Hello,B.tech students!\\n', 'this os file handling in python.\\n', 'sr university.\\n', 'manmith vardhan.\\n']\n"
          ]
        }
      ]
    },
    {
      "cell_type": "code",
      "source": [
        "# 7. Appending data to on existing file\n",
        "file = open(\"example.txt\",\"a\")\n",
        "file.write(\"third year\\n\")\n",
        "file.close()"
      ],
      "metadata": {
        "id": "YgS7z0wv_Aej"
      },
      "execution_count": 19,
      "outputs": []
    },
    {
      "cell_type": "code",
      "source": [
        "# 8. Using eith statement (Best practice)\n",
        "# the with statement automatically closes the file\n",
        "with open(\"example.txt\",\"r\") as fp:\n",
        "    data = fp.read()\n",
        "    print(data)"
      ],
      "metadata": {
        "colab": {
          "base_uri": "https://localhost:8080/"
        },
        "id": "ICuQCsRV_g6J",
        "outputId": "d942d845-ef72-4030-b456-3e37522408e3"
      },
      "execution_count": 21,
      "outputs": [
        {
          "output_type": "stream",
          "name": "stdout",
          "text": [
            "Hello,B.tech students!\n",
            "this os file handling in python.\n",
            "sr university.\n",
            "manmith vardhan.\n",
            "third year\n",
            "third year\n",
            "third year\n",
            "\n"
          ]
        }
      ]
    },
    {
      "cell_type": "code",
      "source": [
        "# 9. Working with CSV files\n",
        "# writing to csv\n",
        "with open(\"data.csv\",\"w\",newline = '') as fp:\n",
        "  wr = csv.writer(fp)\n",
        "  wr.writerows([[\"Name\",\"Age\",\"Course\"],[\"Manmith\",19,\"CSE\"],[\"Dinesh\",20,\"EEE\"]])\n",
        "\n",
        "#READING TO CSV FILES\n",
        "with open(\"data.csv\",\"r\") as file:\n",
        "  re = csv.reader(file)\n",
        "  for row in re:\n",
        "    print(row)"
      ],
      "metadata": {
        "colab": {
          "base_uri": "https://localhost:8080/"
        },
        "id": "_Din8vC4AcLg",
        "outputId": "9acfbdd0-0bec-4a48-9b3b-9dd038cfc352"
      },
      "execution_count": 28,
      "outputs": [
        {
          "output_type": "stream",
          "name": "stdout",
          "text": [
            "['Name', 'Age', 'Course']\n",
            "['Manmith', '19', 'CSE']\n",
            "['Dinesh', '20', 'EEE']\n"
          ]
        }
      ]
    },
    {
      "cell_type": "code",
      "source": [
        "#NUMPY ARRAYS\n",
        "#1D Array\n",
        "import numpy as np\n",
        "arr1 = np.array([1,2,3,4,5])\n",
        "#print(arr1)\n",
        "print(\"1D Array:\", arr1)\n",
        "\n",
        "#2D array\n",
        "arr2 = np.array([[1,2,3],[4,5,6]])\n",
        "print(\"2D Array:\\n\", arr2) #print(arr2)\n",
        "\n",
        "#Zeros Array\n",
        "zeros_arr = np.zeros((3,3))\n",
        "print(\"Zeros Array:\\n\", zeros_arr)\n",
        "\n",
        "#Ones Array\n",
        "ones_arr = np.ones((3,4))\n",
        "print(\"Ones Array:\\n\", ones_arr)\n",
        "\n",
        "#Range of numbers\n",
        "range_arr = np.arange(1,10,2) #start,stop,step\n",
        "print(\"Range Array:\\n\", range_arr)\n",
        "\n",
        "#Random Array\n",
        "rand_arr = np.random.rand(2,3)\n",
        "print(\"Random Array:\\n\", rand_arr)\n"
      ],
      "metadata": {
        "colab": {
          "base_uri": "https://localhost:8080/"
        },
        "id": "TdUgafJ8CLDz",
        "outputId": "522d05b6-bbed-4076-d82b-7d9ddc074df3"
      },
      "execution_count": 40,
      "outputs": [
        {
          "output_type": "stream",
          "name": "stdout",
          "text": [
            "1D Array: [1 2 3 4 5]\n",
            "2D Array:\n",
            " [[1 2 3]\n",
            " [4 5 6]]\n",
            "Zeros Array:\n",
            " [[0. 0. 0.]\n",
            " [0. 0. 0.]\n",
            " [0. 0. 0.]]\n",
            "Ones Array:\n",
            " [[1. 1. 1. 1.]\n",
            " [1. 1. 1. 1.]\n",
            " [1. 1. 1. 1.]]\n",
            "Range Array:\n",
            " [1 3 5 7 9]\n",
            "Random Array:\n",
            " [[0.00095992 0.46747069 0.53284026]\n",
            " [0.61071528 0.30123676 0.46856041]]\n"
          ]
        }
      ]
    },
    {
      "cell_type": "code",
      "source": [
        "#ARRAY ATTRIBUTES\n",
        "arr = np.array([[1,2,3],[4,5,6]])\n",
        "\n",
        "print(\"Shape:\", arr.shape) #(rows, columns)\n",
        "print(\"Dimensions:\", arr.ndim) #2D array\n",
        "print(\"Data Type:\", arr.dtype) #int64 or float64\n",
        "print(\"Size:\", arr.size) #total elements\n",
        "print(\"Item size:\", arr.itemsize) #Bytes per element"
      ],
      "metadata": {
        "colab": {
          "base_uri": "https://localhost:8080/"
        },
        "id": "jqA78zYMEq5o",
        "outputId": "337a8b41-3f8a-4f22-e98c-4e7d3bc0a45f"
      },
      "execution_count": 43,
      "outputs": [
        {
          "output_type": "stream",
          "name": "stdout",
          "text": [
            "Shape: (2, 3)\n",
            "Dimensions: 2\n",
            "Data Type: int64\n",
            "Size: 6\n",
            "Item size: 8\n"
          ]
        }
      ]
    },
    {
      "cell_type": "code",
      "source": [
        "# ARRAY OPERATIONS\n",
        "# Arithmetic opertaions\n",
        "\n",
        "a = np.array([1,2,3])\n",
        "b = np.array([4,5,6])\n",
        "\n",
        "print(\"Addition:\", a+b)\n",
        "print(\"Subtraction:\", a-b)\n",
        "print(\"Multiplication:\", a*b)\n",
        "print(\"Division:\", a/b)\n",
        "print(\"Exponent:\", a**b)\n",
        "\n",
        "# Mathematical Functions\n",
        "arr = np.array([0,np.pi/2,np.pi])\n",
        "print(\"Sin:\", np.sin(arr))\n",
        "print(\"Cos:\", np.cos(arr))\n",
        "print(\"Tan:\", np.tan(arr))\n",
        "print(\"Exp:\", np.exp(arr))\n",
        "print(\"Sqrt:\", np.sqrt(arr))"
      ],
      "metadata": {
        "colab": {
          "base_uri": "https://localhost:8080/"
        },
        "id": "fgjlXDCZHxbQ",
        "outputId": "f4e50986-1bb9-429b-d865-222c4e5d4a66"
      },
      "execution_count": 48,
      "outputs": [
        {
          "output_type": "stream",
          "name": "stdout",
          "text": [
            "Addition: [5 7 9]\n",
            "Subtraction: [-3 -3 -3]\n",
            "Multiplication: [ 4 10 18]\n",
            "Division: [0.25 0.4  0.5 ]\n",
            "Exponent: [  1  32 729]\n",
            "Sin: [0.0000000e+00 1.0000000e+00 1.2246468e-16]\n",
            "Cos: [ 1.000000e+00  6.123234e-17 -1.000000e+00]\n",
            "Tan: [ 0.00000000e+00  1.63312394e+16 -1.22464680e-16]\n",
            "Exp: [ 1.          4.81047738 23.14069263]\n",
            "Sqrt: [0.         1.25331414 1.77245385]\n"
          ]
        }
      ]
    },
    {
      "cell_type": "code",
      "source": [
        "# AGGREGATE FUNCTIONS\n",
        "arr = np.array([[1,2,3],[4,5,6]])\n",
        "print(\"Sum:\", np.sum(arr))\n",
        "print(\"Min:\", np.min(arr))\n",
        "print(\"Max:\", np.max(arr))\n",
        "print(\"Mean:\", np.mean(arr))\n",
        "print(\"Median:\", np.median(arr))\n",
        "print(\"Standard Deviation:\", np.std(arr))\n",
        "print(\"Sum along axis 0:\", np.sum(arr, axis=0)) #column wise sum\n",
        "print(\"Sum along axis 1:\", np.sum(arr, axis=1)) #row wise sum"
      ],
      "metadata": {
        "colab": {
          "base_uri": "https://localhost:8080/"
        },
        "id": "j3dMCffXQxhl",
        "outputId": "cb1764ad-506a-42fb-e520-8411dd6d3fd3"
      },
      "execution_count": 47,
      "outputs": [
        {
          "output_type": "stream",
          "name": "stdout",
          "text": [
            "Sum: 21\n",
            "Min: 1\n",
            "Max: 6\n",
            "Mean: 3.5\n",
            "Median: 3.5\n",
            "Standard Deviation: 1.707825127659933\n",
            "Sum along axis 0: [5 7 9]\n",
            "Sum along axis 1: [ 6 15]\n"
          ]
        }
      ]
    },
    {
      "cell_type": "code",
      "source": [
        "#Matrix Operations\n",
        "A=np.array([[1,2],[3,4]])\n",
        "B=np.array([[5,6],[7,8]])\n",
        "print(\"Matrix Multiplication:\\n\",np.dot(A,B))\n",
        "print(\"Matrix Transpose:\\n\",A.T)\n",
        "print(\"Matrix Inverse:\\n\",np.linalg.inv(A))\n",
        "print(\"Matrix Determinant:\\n\",np.linalg.det(A))"
      ],
      "metadata": {
        "colab": {
          "base_uri": "https://localhost:8080/"
        },
        "id": "-wUly1PvRsko",
        "outputId": "27072ebf-d5c5-4a96-95ca-bf2544d5b51c"
      },
      "execution_count": 51,
      "outputs": [
        {
          "output_type": "stream",
          "name": "stdout",
          "text": [
            "Matrix Multiplication:\n",
            " [[19 22]\n",
            " [43 50]]\n",
            "Matrix Transpose:\n",
            " [[1 3]\n",
            " [2 4]]\n",
            "Matrix Inverse:\n",
            " [[-2.   1. ]\n",
            " [ 1.5 -0.5]]\n",
            "Matrix Determinant:\n",
            " -2.0000000000000004\n"
          ]
        }
      ]
    },
    {
      "cell_type": "code",
      "source": [
        "#Sample Program - Student Analsis\n",
        "import numpy as np\n",
        "# Marks of students in 3 subjects\n",
        "marks = np.array([\n",
        "[85, 90, 88],\n",
        "[78, 81, 85],\n",
        "[92, 89, 95]\n",
        "])\n",
        "print(\"Average marks per student:\", np.mean(marks, axis=1))\n",
        "print(\"Average marks per subject:\", np.mean(marks, axis=0))\n",
        "print(\"Highest marks in each subject:\", np.max(marks, axis=0))\n",
        "print(\"Lowest marks in each subject:\", np.min(marks, axis=0))"
      ],
      "metadata": {
        "colab": {
          "base_uri": "https://localhost:8080/"
        },
        "id": "Tv8xw7xZVl2S",
        "outputId": "0c25dcfd-27b7-4bf1-d751-f798bf1d361b"
      },
      "execution_count": 52,
      "outputs": [
        {
          "output_type": "stream",
          "name": "stdout",
          "text": [
            "Average marks per student: [87.66666667 81.33333333 92.        ]\n",
            "Average marks per subject: [85.         86.66666667 89.33333333]\n",
            "Highest marks in each subject: [92 90 95]\n",
            "Lowest marks in each subject: [78 81 85]\n"
          ]
        }
      ]
    },
    {
      "cell_type": "code",
      "source": [],
      "metadata": {
        "id": "M14B-CgAcxWT"
      },
      "execution_count": null,
      "outputs": []
    }
  ]
}