{
  "nbformat": 4,
  "nbformat_minor": 0,
  "metadata": {
    "colab": {
      "provenance": [],
      "authorship_tag": "ABX9TyOHuYd7AuO6jVz6dat+2vc/",
      "include_colab_link": true
    },
    "kernelspec": {
      "name": "python3",
      "display_name": "Python 3"
    },
    "language_info": {
      "name": "python"
    }
  },
  "cells": [
    {
      "cell_type": "markdown",
      "metadata": {
        "id": "view-in-github",
        "colab_type": "text"
      },
      "source": [
        "<a href=\"https://colab.research.google.com/github/Manmith1321/B19_1321/blob/main/LAB_02.ipynb\" target=\"_parent\"><img src=\"https://colab.research.google.com/assets/colab-badge.svg\" alt=\"Open In Colab\"/></a>"
      ]
    },
    {
      "cell_type": "code",
      "execution_count": null,
      "metadata": {
        "colab": {
          "base_uri": "https://localhost:8080/"
        },
        "id": "yZCUcGUy07hd",
        "outputId": "c1319ec0-8fa0-4a79-c974-e7a798b0a8a6"
      },
      "outputs": [
        {
          "output_type": "stream",
          "name": "stdout",
          "text": [
            "[20, 21, 30, 45, 711]\n",
            "Found\n"
          ]
        }
      ],
      "source": [
        "l=[20,21,30,45,711]\n",
        "print(l)\n",
        "if 30 in l:\n",
        "  print(\"Found\")\n",
        "else:\n",
        "  print(\"Not Found\")\n"
      ]
    },
    {
      "cell_type": "code",
      "source": [
        "l=[10,55.5,\"cse\"]\n",
        "print(l)"
      ],
      "metadata": {
        "colab": {
          "base_uri": "https://localhost:8080/"
        },
        "id": "I2fQaiux3bvi",
        "outputId": "86061e98-341e-4d93-a3d2-ce1bf71988fe"
      },
      "execution_count": null,
      "outputs": [
        {
          "output_type": "stream",
          "name": "stdout",
          "text": [
            "[10, 55.5, 'cse']\n"
          ]
        }
      ]
    },
    {
      "cell_type": "code",
      "source": [
        "l=[20,21,30,45,711]\n",
        "l.append(50)\n",
        "print(l)"
      ],
      "metadata": {
        "colab": {
          "base_uri": "https://localhost:8080/"
        },
        "id": "akHzHXb83h5y",
        "outputId": "3471d369-0ed1-4b63-f13b-f7e362d49991"
      },
      "execution_count": null,
      "outputs": [
        {
          "output_type": "stream",
          "name": "stdout",
          "text": [
            "[20, 21, 30, 45, 711, 50]\n"
          ]
        }
      ]
    },
    {
      "cell_type": "code",
      "source": [
        "l=[20,21,30,45,711,50]\n",
        "l.remove(30)\n",
        "print(l)\n",
        "l.insert(2,25)\n",
        "print(l)\n",
        "l.sort()\n",
        "print(l)\n",
        "l.reverse()\n",
        "print(l)\n",
        "print(sum(l))\n",
        "print(max(l))\n",
        "print(min(l))"
      ],
      "metadata": {
        "colab": {
          "base_uri": "https://localhost:8080/"
        },
        "id": "XKSj9j5T3vd1",
        "outputId": "47928f81-0613-4d6b-d12a-0a86b0b6e3bf"
      },
      "execution_count": null,
      "outputs": [
        {
          "output_type": "stream",
          "name": "stdout",
          "text": [
            "[20, 21, 45, 711, 50]\n",
            "[20, 21, 25, 45, 711, 50]\n",
            "[20, 21, 25, 45, 50, 711]\n",
            "[711, 50, 45, 25, 21, 20]\n",
            "872\n",
            "711\n",
            "20\n"
          ]
        }
      ]
    },
    {
      "cell_type": "code",
      "source": [
        "student=[[10,20],[30,40],[50,60],[70,80],[90,100]]\n",
        "print(student)"
      ],
      "metadata": {
        "colab": {
          "base_uri": "https://localhost:8080/"
        },
        "id": "oB-CxoYU49Li",
        "outputId": "9b61e4c5-b39a-4243-9c84-7f7799296b09"
      },
      "execution_count": null,
      "outputs": [
        {
          "output_type": "stream",
          "name": "stdout",
          "text": [
            "[[10, 20], [30, 40], [50, 60], [70, 80], [90, 100]]\n"
          ]
        }
      ]
    },
    {
      "cell_type": "code",
      "source": [
        "t=(10,20,30,40,50,60,70)\n",
        "print(t)\n",
        "t=(10,20,30,40,50,20)\n",
        "print(t)\n",
        "t=(20,98.99,\"cse\")\n",
        "for i in t:\n",
        "  print(type(i),i)\n",
        "if 20 in t:\n",
        "  print(\"found\")\n",
        "else:\n",
        "  print(\"not found\")"
      ],
      "metadata": {
        "colab": {
          "base_uri": "https://localhost:8080/"
        },
        "id": "tS8c-QXP6zfC",
        "outputId": "81cefed4-35d0-440b-b79c-db654023e035"
      },
      "execution_count": null,
      "outputs": [
        {
          "output_type": "stream",
          "name": "stdout",
          "text": [
            "(10, 20, 30, 40, 50, 60, 70)\n",
            "(10, 20, 30, 40, 50, 20)\n",
            "<class 'int'> 20\n",
            "<class 'float'> 98.99\n",
            "<class 'str'> cse\n",
            "found\n"
          ]
        }
      ]
    },
    {
      "cell_type": "code",
      "source": [
        "l=[10,20,30,40,50]\n",
        "my_tuple=tuple(l)\n",
        "print(my_tuple)\n",
        "\n",
        "s=((10,20),(30,40),(40,50))\n",
        "print(s)"
      ],
      "metadata": {
        "colab": {
          "base_uri": "https://localhost:8080/"
        },
        "id": "Nsc1RfYW8l9Q",
        "outputId": "020aea37-a376-407f-b56c-c6efbf95b8ea"
      },
      "execution_count": null,
      "outputs": [
        {
          "output_type": "stream",
          "name": "stdout",
          "text": [
            "(10, 20, 30, 40, 50)\n",
            "((10, 20), (30, 40), (40, 50))\n"
          ]
        }
      ]
    },
    {
      "cell_type": "code",
      "source": [
        "t=[20,30,90,70,80]\n",
        "print(t.count(30))\n",
        "print(t.index(20))"
      ],
      "metadata": {
        "colab": {
          "base_uri": "https://localhost:8080/"
        },
        "id": "9Vw56c9b9_4E",
        "outputId": "76087852-0a02-457e-ae09-d2d8e9b7f729"
      },
      "execution_count": null,
      "outputs": [
        {
          "output_type": "stream",
          "name": "stdout",
          "text": [
            "1\n",
            "0\n"
          ]
        }
      ]
    },
    {
      "cell_type": "code",
      "source": [
        "student={\"name\":\"python\",\"id\":\"21\",\"branch\":\"cse\"}\n",
        "print(student)\n",
        "print(student.keys())\n",
        "print(student.values())\n",
        "print(student.items())\n",
        "\n",
        "for key,value in student.items():\n",
        "  print(key,\":\",value)\n",
        "\n",
        "#add\n",
        "student[\"college\"]=\"SRU\"\n",
        "print(student)\n",
        "\n",
        "#update and delete\n",
        "student[\"branch\"]=\"AIML\"\n",
        "del student[\"id\"]\n",
        "print(student)\n",
        "\n",
        "#nested dictionary\n",
        "s={\"101\":{\"name\":\"java\",\"id\":\"21\"}, \"102\":{\"name\":\"python\",\"id\":\"22\"}}\n",
        "print(s[\"102\"][\"name\"])"
      ],
      "metadata": {
        "colab": {
          "base_uri": "https://localhost:8080/"
        },
        "id": "taK3PnlIAjZe",
        "outputId": "4fca07ab-630e-40ea-c88a-b92f992b0748"
      },
      "execution_count": null,
      "outputs": [
        {
          "output_type": "stream",
          "name": "stdout",
          "text": [
            "{'name': 'python', 'id': '21', 'branch': 'cse'}\n",
            "dict_keys(['name', 'id', 'branch'])\n",
            "dict_values(['python', '21', 'cse'])\n",
            "dict_items([('name', 'python'), ('id', '21'), ('branch', 'cse')])\n",
            "name : python\n",
            "id : 21\n",
            "branch : cse\n",
            "{'name': 'python', 'id': '21', 'branch': 'cse', 'college': 'SRU'}\n",
            "{'name': 'python', 'branch': 'AIML', 'college': 'SRU'}\n",
            "python\n"
          ]
        }
      ]
    },
    {
      "cell_type": "code",
      "source": [
        "print(\"10\\t20\\n30\\t40\\n50\\t60\")"
      ],
      "metadata": {
        "colab": {
          "base_uri": "https://localhost:8080/"
        },
        "id": "q3TkxwH0BR8F",
        "outputId": "2ff4e868-d190-4714-9267-9c77a33392a4"
      },
      "execution_count": null,
      "outputs": [
        {
          "output_type": "stream",
          "name": "stdout",
          "text": [
            "10\t20\n",
            "30\t40\n",
            "50\t60\n"
          ]
        }
      ]
    },
    {
      "cell_type": "code",
      "source": [
        "l=[[10,20],[30,40],[50,60]]\n",
        "for i in l:\n",
        "  print(*i) # * is a unpacking operator"
      ],
      "metadata": {
        "colab": {
          "base_uri": "https://localhost:8080/"
        },
        "id": "LtVZ7ZyXDSP3",
        "outputId": "4de26ecb-a5e1-4cf9-8ae5-edc9302468c8"
      },
      "execution_count": null,
      "outputs": [
        {
          "output_type": "stream",
          "name": "stdout",
          "text": [
            "10 20\n",
            "30 40\n",
            "50 60\n"
          ]
        }
      ]
    },
    {
      "cell_type": "code",
      "source": [
        "l=[[10,20],[30,40],[50,60]]\n",
        "for i in l:\n",
        "  print(i)"
      ],
      "metadata": {
        "colab": {
          "base_uri": "https://localhost:8080/"
        },
        "id": "0u7a7lRMEK9R",
        "outputId": "5817c5bf-988a-433c-8916-fbea043b28e3"
      },
      "execution_count": null,
      "outputs": [
        {
          "output_type": "stream",
          "name": "stdout",
          "text": [
            "[10, 20]\n",
            "[30, 40]\n",
            "[50, 60]\n"
          ]
        }
      ]
    },
    {
      "cell_type": "code",
      "source": [
        "#SETS\n",
        "\n",
        "a={1,2,3,4}\n",
        "b={3,4,5,6}\n",
        "print(a.union(b))\n",
        "print(a.intersection(b))\n",
        "print(a.difference(b))\n",
        "print(b.difference(a))\n",
        "print(\"union\",a|b)\n",
        "print(\"intersection\",a&b)\n",
        "print(\"difference\",a-b)\n",
        "print(\"difference\",b-a)\n",
        "print(a.symmetric_difference(b))\n",
        "print(a^b)"
      ],
      "metadata": {
        "colab": {
          "base_uri": "https://localhost:8080/"
        },
        "id": "uKtpl97zHDYo",
        "outputId": "d2f36176-c4dd-4282-b450-38f95deab302"
      },
      "execution_count": null,
      "outputs": [
        {
          "output_type": "stream",
          "name": "stdout",
          "text": [
            "{1, 2, 3, 4, 5, 6}\n",
            "{3, 4}\n",
            "{1, 2}\n",
            "{5, 6}\n",
            "union {1, 2, 3, 4, 5, 6}\n",
            "intersection {3, 4}\n",
            "difference {1, 2}\n",
            "difference {5, 6}\n",
            "{1, 2, 5, 6}\n",
            "{1, 2, 5, 6}\n"
          ]
        }
      ]
    },
    {
      "cell_type": "code",
      "source": [
        "s={1,2,3,4}\n",
        "print(s)\n",
        "s.add(5)\n",
        "print(s)\n",
        "s.remove(4)\n",
        "print(s)\n",
        "s.clear()\n",
        "print(s)"
      ],
      "metadata": {
        "colab": {
          "base_uri": "https://localhost:8080/"
        },
        "id": "mrP0-qSVHVdC",
        "outputId": "25c9e533-a6aa-44a3-907b-d8669cf9554e"
      },
      "execution_count": null,
      "outputs": [
        {
          "output_type": "stream",
          "name": "stdout",
          "text": [
            "{1, 2, 3, 4}\n",
            "{1, 2, 3, 4, 5}\n",
            "{1, 2, 3, 5}\n",
            "set()\n"
          ]
        }
      ]
    },
    {
      "cell_type": "code",
      "source": [
        "import numpy as np\n",
        "marks = np.array([[85, 78, 92], [70, 65, 80],  [90, 88, 94],  [60, 75, 70],  [95, 85, 99] ])\n",
        "avg_marks = np.mean(marks)\n",
        "min_marks = np.min(marks)\n",
        "max_marks = np.max(marks)\n",
        "print(avg_marks)\n",
        "print(min_marks)\n",
        "print(max_marks)\n",
        "\n",
        "print(\"Marks of Student 3:\", marks[2])\n",
        "print(\"Marks of Students 2 to 4: \", marks[1:4])\n",
        "\n",
        "excellent= marks >80\n",
        "print(excellent)\n",
        "\n",
        "each_subject = marks.T\n",
        "print(\"EACH SUBJECT MARKS\", each_subject)\n"
      ],
      "metadata": {
        "id": "wLYgAeZqXm9d",
        "outputId": "ad4453dd-ac20-40a2-cd04-63c3762e25e4",
        "colab": {
          "base_uri": "https://localhost:8080/"
        }
      },
      "execution_count": 1,
      "outputs": [
        {
          "output_type": "stream",
          "name": "stdout",
          "text": [
            "81.73333333333333\n",
            "60\n",
            "99\n",
            "Marks of Student 3: [90 88 94]\n",
            "Marks of Students 2 to 4:  [[70 65 80]\n",
            " [90 88 94]\n",
            " [60 75 70]]\n",
            "[[ True False  True]\n",
            " [False False False]\n",
            " [ True  True  True]\n",
            " [False False False]\n",
            " [ True  True  True]]\n",
            "EACH SUBJECT MARKS [[85 70 90 60 95]\n",
            " [78 65 88 75 85]\n",
            " [92 80 94 70 99]]\n"
          ]
        }
      ]
    }
  ]
}